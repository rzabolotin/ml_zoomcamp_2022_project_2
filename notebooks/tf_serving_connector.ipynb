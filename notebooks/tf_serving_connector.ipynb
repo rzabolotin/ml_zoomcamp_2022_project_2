{
 "cells": [
  {
   "cell_type": "markdown",
   "id": "efa6ca69",
   "metadata": {},
   "source": [
    "# Install and import libraries"
   ]
  },
  {
   "cell_type": "code",
   "execution_count": null,
   "id": "d31537ed",
   "metadata": {},
   "outputs": [],
   "source": [
    "!pip install grpcio==1.42.0 tensorflow-serving-api==2.7.0"
   ]
  },
  {
   "cell_type": "code",
   "execution_count": 7,
   "id": "2e4d2653",
   "metadata": {},
   "outputs": [],
   "source": [
    "import grpc\n",
    "import tensorflow as tf\n",
    "from tensorflow_serving.apis import predict_pb2, prediction_service_pb2_grpc"
   ]
  },
  {
   "cell_type": "markdown",
   "id": "93baeae3",
   "metadata": {},
   "source": [
    "# Create connection"
   ]
  },
  {
   "cell_type": "code",
   "execution_count": 10,
   "id": "d91dd413",
   "metadata": {},
   "outputs": [],
   "source": [
    "model_host = \"localhost:8500\"\n",
    "\n",
    "channel = grpc.insecure_channel(model_host)\n",
    "stub = prediction_service_pb2_grpc.PredictionServiceStub(channel)"
   ]
  },
  {
   "cell_type": "markdown",
   "id": "de38644a",
   "metadata": {},
   "source": [
    "# Prepare image for prediction"
   ]
  },
  {
   "cell_type": "code",
   "execution_count": 29,
   "id": "f51f945f",
   "metadata": {},
   "outputs": [],
   "source": [
    "import numpy as np\n",
    "from urllib import request\n",
    "from io import BytesIO\n",
    "from PIL import Image"
   ]
  },
  {
   "cell_type": "code",
   "execution_count": 30,
   "id": "b37f577e",
   "metadata": {},
   "outputs": [],
   "source": [
    "def get_image_from_url(url, target_size):\n",
    "    with request.urlopen(url) as resp:\n",
    "        buffer = resp.read()\n",
    "    stream = BytesIO(buffer)\n",
    "    img = Image.open(stream)\n",
    "    img = img.resize(target_size, Image.NEAREST)\n",
    "    x = np.array(img, dtype='float32')\n",
    "    batch = np.expand_dims(x, axis=0)\n",
    "    return batch"
   ]
  },
  {
   "cell_type": "code",
   "execution_count": 83,
   "id": "1cbaff9a",
   "metadata": {},
   "outputs": [],
   "source": [
    "def np_to_ptotobuf(data):\n",
    "    return tf.make_tensor_proto(data, shape = data.shape)"
   ]
  },
  {
   "cell_type": "code",
   "execution_count": 81,
   "id": "6e368c70",
   "metadata": {},
   "outputs": [],
   "source": [
    "image_size = (150, 150)\n",
    "sample_cat = 'https://github.com/rzabolotin/ml_zoomcamp_2022_project_2/blob/main/static/manchkin.jpg?raw=true'"
   ]
  },
  {
   "cell_type": "code",
   "execution_count": 82,
   "id": "ed1e948c",
   "metadata": {},
   "outputs": [],
   "source": [
    "X = get_image_from_url(sample_cat, image_size)"
   ]
  },
  {
   "cell_type": "markdown",
   "id": "9dcf8042",
   "metadata": {},
   "source": [
    "# Predicting"
   ]
  },
  {
   "cell_type": "code",
   "execution_count": 84,
   "id": "4853c7af",
   "metadata": {},
   "outputs": [],
   "source": [
    "pb_request = predict_pb2.PredictRequest()\n",
    "pb_request.model_spec.name = \"cat_breed_model\"\n",
    "pb_request.model_spec.signature_name = \"serving_default\"\n",
    "pb_request.inputs[\"efficientnetb4_input\"].CopyFrom(np_to_ptotobuf(X))\n"
   ]
  },
  {
   "cell_type": "code",
   "execution_count": 85,
   "id": "2233101c",
   "metadata": {},
   "outputs": [],
   "source": [
    "pb_response = stub.Predict(pb_request, timeout=20.0)"
   ]
  },
  {
   "cell_type": "code",
   "execution_count": 86,
   "id": "759d12c2",
   "metadata": {},
   "outputs": [],
   "source": [
    "predictions = pb_response.outputs['dense_17'].float_val"
   ]
  },
  {
   "cell_type": "markdown",
   "id": "49cbe4ee",
   "metadata": {},
   "source": [
    "# Combining all in one function"
   ]
  },
  {
   "cell_type": "code",
   "execution_count": 94,
   "id": "078b202d",
   "metadata": {},
   "outputs": [],
   "source": [
    "class_info = {'Abyssinian': 0,\n",
    "     'American Bobtail': 1,\n",
    "     'American Curl': 2,\n",
    "     'American Shorthair': 3,\n",
    "     'American Wirehair': 4,\n",
    "     'Applehead Siamese': 5,\n",
    "     'Balinese': 6,\n",
    "     'Bengal': 7,\n",
    "     'Birman': 8,\n",
    "     'Bombay': 9,\n",
    "     'British Shorthair': 10,\n",
    "     'Burmese': 11,\n",
    "     'Burmilla': 12,\n",
    "     'Calico': 13,\n",
    "     'Canadian Hairless': 14,\n",
    "     'Chartreux': 15,\n",
    "     'Chausie': 16,\n",
    "     'Chinchilla': 17,\n",
    "     'Cornish Rex': 18,\n",
    "     'Cymric': 19,\n",
    "     'Devon Rex': 20,\n",
    "     'Dilute Calico': 21,\n",
    "     'Dilute Tortoiseshell': 22,\n",
    "     'Domestic Long Hair': 23,\n",
    "     'Domestic Medium Hair': 24,\n",
    "     'Domestic Short Hair': 25,\n",
    "     'Egyptian Mau': 26,\n",
    "     'Exotic Shorthair': 27,\n",
    "     'Extra-Toes Cat - Hemingway Polydactyl': 28,\n",
    "     'Havana': 29,\n",
    "     'Himalayan': 30,\n",
    "     'Japanese Bobtail': 31,\n",
    "     'Javanese': 32,\n",
    "     'Korat': 33,\n",
    "     'LaPerm': 34,\n",
    "     'Maine Coon': 35,\n",
    "     'Manx': 36,\n",
    "     'Munchkin': 37,\n",
    "     'Nebelung': 38,\n",
    "     'No cat': 39,\n",
    "     'Norwegian Forest Cat': 40,\n",
    "     'Ocicat': 41,\n",
    "     'Oriental Long Hair': 42,\n",
    "     'Oriental Short Hair': 43,\n",
    "     'Oriental Tabby': 44,\n",
    "     'Persian': 45,\n",
    "     'Pixiebob': 46,\n",
    "     'Ragamuffin': 47,\n",
    "     'Ragdoll': 48,\n",
    "     'Russian Blue': 49,\n",
    "     'Scottish Fold': 50,\n",
    "     'Selkirk Rex': 51,\n",
    "     'Siamese': 52,\n",
    "     'Siberian': 53,\n",
    "     'Silver': 54,\n",
    "     'Singapura': 55,\n",
    "     'Snowshoe': 56,\n",
    "     'Somali': 57,\n",
    "     'Sphynx - Hairless Cat': 58,\n",
    "     'Tabby': 59,\n",
    "     'Tiger': 60,\n",
    "     'Tonkinese': 61,\n",
    "     'Torbie': 62,\n",
    "     'Tortoiseshell': 63,\n",
    "     'Turkish Angora': 64,\n",
    "     'Turkish Van': 65,\n",
    "     'Tuxedo': 66,\n",
    "     'York Chocolate': 67}"
   ]
  },
  {
   "cell_type": "code",
   "execution_count": 99,
   "id": "187bc5a2",
   "metadata": {},
   "outputs": [],
   "source": [
    "def get_predictions(url):\n",
    "    X = get_image_from_url(url, image_size)\n",
    "    \n",
    "    pb_request = predict_pb2.PredictRequest()\n",
    "    pb_request.model_spec.name = \"cat_breed_model\"\n",
    "    pb_request.model_spec.signature_name = \"serving_default\"\n",
    "    pb_request.inputs[\"efficientnetb4_input\"].CopyFrom(np_to_ptotobuf(X))\n",
    "    \n",
    "    pb_response = stub.Predict(pb_request, timeout=20.0)\n",
    "    \n",
    "    predictions = pb_response.outputs['dense_17'].float_val\n",
    "    \n",
    "    class_predictions = dict(zip(class_info.keys(), predictions))\n",
    "    return sorted(class_predictions.items(), key=lambda x: x[1], reverse=True)"
   ]
  },
  {
   "cell_type": "markdown",
   "id": "336817a0",
   "metadata": {},
   "source": [
    "# Test service"
   ]
  },
  {
   "cell_type": "markdown",
   "id": "622e2d85",
   "metadata": {},
   "source": [
    "## Munchkin"
   ]
  },
  {
   "cell_type": "markdown",
   "id": "fd74cc72",
   "metadata": {},
   "source": [
    "![image](https://github.com/rzabolotin/ml_zoomcamp_2022_project_2/blob/main/static/manchkin.jpg?raw=true)"
   ]
  },
  {
   "cell_type": "code",
   "execution_count": 101,
   "id": "f8d12088",
   "metadata": {},
   "outputs": [
    {
     "data": {
      "text/plain": [
       "[('Burmese', 0.2003280222415924),\n",
       " ('Tonkinese', 0.13829274475574493),\n",
       " ('Snowshoe', 0.10208065062761307),\n",
       " ('Manx', 0.05214511603116989),\n",
       " ('British Shorthair', 0.04879487678408623),\n",
       " ('Applehead Siamese', 0.047913774847984314),\n",
       " ('Exotic Shorthair', 0.044737573713064194),\n",
       " ('Siamese', 0.03574749454855919),\n",
       " ('Turkish Van', 0.031831610947847366),\n",
       " ('Balinese', 0.029916342347860336),\n",
       " ('American Bobtail', 0.024295825511217117),\n",
       " ('Ragdoll', 0.019599681720137596),\n",
       " ('Cornish Rex', 0.018007459118962288),\n",
       " ('Japanese Bobtail', 0.016213448718190193),\n",
       " ('Scottish Fold', 0.013965381309390068),\n",
       " ('Domestic Medium Hair', 0.013827316462993622),\n",
       " ('Extra-Toes Cat - Hemingway Polydactyl', 0.013286962173879147),\n",
       " ('American Shorthair', 0.012148640118539333),\n",
       " ('Oriental Short Hair', 0.011581959202885628),\n",
       " ('Oriental Tabby', 0.008972340263426304),\n",
       " ('Dilute Calico', 0.008972052484750748),\n",
       " ('Egyptian Mau', 0.008074469864368439),\n",
       " ('Tiger', 0.008028769865632057),\n",
       " ('Himalayan', 0.007902013137936592),\n",
       " ('Tabby', 0.007874133065342903),\n",
       " ('Munchkin', 0.006231485400348902),\n",
       " ('Domestic Short Hair', 0.004760824143886566),\n",
       " ('Birman', 0.00453922338783741),\n",
       " ('Selkirk Rex', 0.004042973276227713),\n",
       " ('Tuxedo', 0.00393289839848876),\n",
       " ('Devon Rex', 0.0039026043377816677),\n",
       " ('Persian', 0.003749956376850605),\n",
       " ('Singapura', 0.0032234289683401585),\n",
       " ('Bengal', 0.002885892754420638),\n",
       " ('Ragamuffin', 0.0027609483804553747),\n",
       " ('American Curl', 0.0025598076172173023),\n",
       " ('Abyssinian', 0.0023760029580444098),\n",
       " ('Turkish Angora', 0.002318092854693532),\n",
       " ('No cat', 0.0021093878895044327),\n",
       " ('Domestic Long Hair', 0.002015723381191492),\n",
       " ('Javanese', 0.0018687596311792731),\n",
       " ('Havana', 0.0018513482064008713),\n",
       " ('Ocicat', 0.0017340376507490873),\n",
       " ('Sphynx - Hairless Cat', 0.001622816314920783),\n",
       " ('Chausie', 0.001548146246932447),\n",
       " ('Maine Coon', 0.0014798016054555774),\n",
       " ('Norwegian Forest Cat', 0.0013858700403943658),\n",
       " ('Silver', 0.00128092837985605),\n",
       " ('Korat', 0.0011493621859699488),\n",
       " ('Bombay', 0.001095863408409059),\n",
       " ('Russian Blue', 0.0010534258326515555),\n",
       " ('American Wirehair', 0.0010434681316837668),\n",
       " ('LaPerm', 0.000966363528277725),\n",
       " ('Siberian', 0.0009416664834134281),\n",
       " ('Dilute Tortoiseshell', 0.0008170810178853571),\n",
       " ('Calico', 0.0007793158874846995),\n",
       " ('Oriental Long Hair', 0.0005924576544202864),\n",
       " ('Tortoiseshell', 0.0005751460557803512),\n",
       " ('Chartreux', 0.00045964622404426336),\n",
       " ('Burmilla', 0.0004307558701839298),\n",
       " ('Nebelung', 0.0004193384957034141),\n",
       " ('Somali', 0.00036168337101116776),\n",
       " ('Canadian Hairless', 0.00015317692304961383),\n",
       " ('Pixiebob', 0.00013790813682135195),\n",
       " ('Torbie', 0.00013090799620840698),\n",
       " ('Cymric', 9.28610097616911e-05),\n",
       " ('Chinchilla', 6.869965727673844e-05),\n",
       " ('York Chocolate', 1.1245293535466772e-05)]"
      ]
     },
     "execution_count": 101,
     "metadata": {},
     "output_type": "execute_result"
    }
   ],
   "source": [
    "get_paredictions(\"https://github.com/rzabolotin/ml_zoomcamp_2022_project_2/blob/main/static/manchkin.jpg?raw=true\")"
   ]
  },
  {
   "cell_type": "markdown",
   "id": "b8fef148",
   "metadata": {},
   "source": [
    "## Chausie"
   ]
  },
  {
   "cell_type": "markdown",
   "id": "b3f17d3b",
   "metadata": {},
   "source": [
    "![image](https://github.com/rzabolotin/ml_zoomcamp_2022_project_2/blob/main/static/chausie.jpg?raw=true)"
   ]
  },
  {
   "cell_type": "code",
   "execution_count": 103,
   "id": "652f742d",
   "metadata": {},
   "outputs": [
    {
     "data": {
      "text/plain": [
       "[('Abyssinian', 0.4517592787742615),\n",
       " ('Cornish Rex', 0.07613372057676315),\n",
       " ('Oriental Short Hair', 0.055158115923404694),\n",
       " ('Sphynx - Hairless Cat', 0.046744052320718765),\n",
       " ('Bengal', 0.04664374515414238),\n",
       " ('Devon Rex', 0.039809685200452805),\n",
       " ('Ocicat', 0.038995832204818726),\n",
       " ('Burmese', 0.02415214665234089),\n",
       " ('Extra-Toes Cat - Hemingway Polydactyl', 0.019073331728577614),\n",
       " ('American Shorthair', 0.018102427944540977),\n",
       " ('Tonkinese', 0.015269175171852112),\n",
       " ('Chausie', 0.015097995288670063),\n",
       " ('Egyptian Mau', 0.013392817229032516),\n",
       " ('Manx', 0.011986064724624157),\n",
       " ('Snowshoe', 0.00967077910900116),\n",
       " ('Exotic Shorthair', 0.008334281854331493),\n",
       " ('Oriental Tabby', 0.008212610147893429),\n",
       " ('Munchkin', 0.007630824577063322),\n",
       " ('Tortoiseshell', 0.006851544138044119),\n",
       " ('Siamese', 0.006692946422845125),\n",
       " ('Javanese', 0.00643542967736721),\n",
       " ('Torbie', 0.006184724159538746),\n",
       " ('American Bobtail', 0.006046625319868326),\n",
       " ('Calico', 0.005115384701639414),\n",
       " ('Domestic Short Hair', 0.004848444368690252),\n",
       " ('Applehead Siamese', 0.004442700184881687),\n",
       " ('Tiger', 0.004379855934530497),\n",
       " ('Tabby', 0.004111014772206545),\n",
       " ('Domestic Medium Hair', 0.003179222345352173),\n",
       " ('British Shorthair', 0.0025264215655624866),\n",
       " ('American Curl', 0.0024661843199282885),\n",
       " ('Turkish Van', 0.0024258317425847054),\n",
       " ('Bombay', 0.002299184910953045),\n",
       " ('Dilute Tortoiseshell', 0.0020820312201976776),\n",
       " ('Singapura', 0.002002313733100891),\n",
       " ('Maine Coon', 0.0019568658899515867),\n",
       " ('Pixiebob', 0.0018153624841943383),\n",
       " ('Somali', 0.0017672160174697638),\n",
       " ('Havana', 0.0015660749049857259),\n",
       " ('No cat', 0.0015013315714895725),\n",
       " ('Russian Blue', 0.0013396997237578034),\n",
       " ('Tuxedo', 0.0013290129136294127),\n",
       " ('Scottish Fold', 0.0010124959517270327),\n",
       " ('Japanese Bobtail', 0.0009278598008677363),\n",
       " ('Balinese', 0.0009090967942029238),\n",
       " ('Silver', 0.0008772648870944977),\n",
       " ('Siberian', 0.0008600915316492319),\n",
       " ('Dilute Calico', 0.0008578686974942684),\n",
       " ('Korat', 0.0005683429772034287),\n",
       " ('Ragdoll', 0.0005400803056545556),\n",
       " ('Burmilla', 0.0004686717293225229),\n",
       " ('Persian', 0.0004397287266328931),\n",
       " ('LaPerm', 0.00043878870201297104),\n",
       " ('Turkish Angora', 0.000430997897638008),\n",
       " ('American Wirehair', 0.0003566935774870217),\n",
       " ('Domestic Long Hair', 0.00030282209627330303),\n",
       " ('Selkirk Rex', 0.00028180505614727736),\n",
       " ('Chartreux', 0.00022493163123726845),\n",
       " ('Norwegian Forest Cat', 0.000174981658346951),\n",
       " ('Himalayan', 0.00015744648408144712),\n",
       " ('Birman', 0.00014734560681972653),\n",
       " ('Oriental Long Hair', 0.0001371039543300867),\n",
       " ('Chinchilla', 8.341835928149521e-05),\n",
       " ('Ragamuffin', 7.310334331123158e-05),\n",
       " ('Cymric', 6.692403985653073e-05),\n",
       " ('Nebelung', 6.581111665582284e-05),\n",
       " ('Canadian Hairless', 3.583398211048916e-05),\n",
       " ('York Chocolate', 2.8161011869087815e-05)]"
      ]
     },
     "execution_count": 103,
     "metadata": {},
     "output_type": "execute_result"
    }
   ],
   "source": [
    "get_predictions(\"https://github.com/rzabolotin/ml_zoomcamp_2022_project_2/blob/main/static/chausie.jpg?raw=true\")"
   ]
  },
  {
   "cell_type": "markdown",
   "id": "4f0b82f4",
   "metadata": {},
   "source": [
    "## Burmilla"
   ]
  },
  {
   "cell_type": "markdown",
   "id": "f715b296",
   "metadata": {},
   "source": [
    "![image](https://github.com/rzabolotin/ml_zoomcamp_2022_project_2/blob/main/static/burmila.jpg?raw=true)"
   ]
  },
  {
   "cell_type": "code",
   "execution_count": 104,
   "id": "f373219d",
   "metadata": {},
   "outputs": [
    {
     "data": {
      "text/plain": [
       "[('Turkish Van', 0.20681680738925934),\n",
       " ('Snowshoe', 0.15892663598060608),\n",
       " ('American Bobtail', 0.08314710855484009),\n",
       " ('Oriental Short Hair', 0.06432677805423737),\n",
       " ('Siamese', 0.06081867590546608),\n",
       " ('Scottish Fold', 0.0315106175839901),\n",
       " ('British Shorthair', 0.029953358694911003),\n",
       " ('Manx', 0.02979104034602642),\n",
       " ('Oriental Tabby', 0.029013564810156822),\n",
       " ('Dilute Calico', 0.020816698670387268),\n",
       " ('Egyptian Mau', 0.019914938136935234),\n",
       " ('Cornish Rex', 0.019769614562392235),\n",
       " ('American Shorthair', 0.01723439246416092),\n",
       " ('Japanese Bobtail', 0.016291745007038116),\n",
       " ('Extra-Toes Cat - Hemingway Polydactyl', 0.015309331938624382),\n",
       " ('Silver', 0.010912129655480385),\n",
       " ('Devon Rex', 0.010711533017456532),\n",
       " ('Domestic Medium Hair', 0.01055151503533125),\n",
       " ('American Curl', 0.010132398456335068),\n",
       " ('Tabby', 0.010079162195324898),\n",
       " ('Munchkin', 0.009996985085308552),\n",
       " ('Applehead Siamese', 0.009885073639452457),\n",
       " ('Domestic Short Hair', 0.009864643216133118),\n",
       " ('Javanese', 0.00955805554986),\n",
       " ('Exotic Shorthair', 0.008698485791683197),\n",
       " ('Turkish Angora', 0.008303696289658546),\n",
       " ('Ragdoll', 0.007700249087065458),\n",
       " ('Tonkinese', 0.006937195546925068),\n",
       " ('Tiger', 0.006131067406386137),\n",
       " ('Burmese', 0.0059958938509225845),\n",
       " ('Chausie', 0.005202923901379108),\n",
       " ('Dilute Tortoiseshell', 0.0051764086820185184),\n",
       " ('Ocicat', 0.004977323580533266),\n",
       " ('Balinese', 0.004391856957226992),\n",
       " ('Bengal', 0.0032722873147577047),\n",
       " ('Sphynx - Hairless Cat', 0.0031638413202017546),\n",
       " ('Persian', 0.0028544338420033455),\n",
       " ('Calico', 0.002580370055511594),\n",
       " ('Siberian', 0.00246120011433959),\n",
       " ('Birman', 0.0022857061121612787),\n",
       " ('Singapura', 0.0021033489610999823),\n",
       " ('Torbie', 0.0020363193470984697),\n",
       " ('Norwegian Forest Cat', 0.0016134349862113595),\n",
       " ('Selkirk Rex', 0.001494146534241736),\n",
       " ('Oriental Long Hair', 0.0014346056850627065),\n",
       " ('Abyssinian', 0.0013931646244600415),\n",
       " ('Tortoiseshell', 0.0013921791687607765),\n",
       " ('Burmilla', 0.0013397927395999432),\n",
       " ('Tuxedo', 0.0012809628387913108),\n",
       " ('Himalayan', 0.0012439476558938622),\n",
       " ('Maine Coon', 0.00105175725184381),\n",
       " ('Ragamuffin', 0.0010086840484291315),\n",
       " ('No cat', 0.0008415526244789362),\n",
       " ('Bombay', 0.000772404542658478),\n",
       " ('Havana', 0.0007572539616376162),\n",
       " ('Russian Blue', 0.0007106419652700424),\n",
       " ('Domestic Long Hair', 0.0006412435905076563),\n",
       " ('Chartreux', 0.0006216668989509344),\n",
       " ('Pixiebob', 0.0006045842310413718),\n",
       " ('American Wirehair', 0.0005759209161624312),\n",
       " ('LaPerm', 0.00042965947068296373),\n",
       " ('Korat', 0.0003975053841713816),\n",
       " ('Somali', 0.0002302162756677717),\n",
       " ('Canadian Hairless', 0.00020166244939900935),\n",
       " ('Nebelung', 0.0001579840900376439),\n",
       " ('Cymric', 0.0001159076564363204),\n",
       " ('Chinchilla', 6.440336437663063e-05),\n",
       " ('York Chocolate', 1.9262412024545483e-05)]"
      ]
     },
     "execution_count": 104,
     "metadata": {},
     "output_type": "execute_result"
    }
   ],
   "source": [
    "get_predictions(\"https://github.com/rzabolotin/ml_zoomcamp_2022_project_2/blob/main/static/burmila.jpg?raw=true\")"
   ]
  },
  {
   "cell_type": "markdown",
   "id": "8a20b8a5",
   "metadata": {},
   "source": [
    "# Conclussion"
   ]
  },
  {
   "cell_type": "markdown",
   "id": "f91d8820",
   "metadata": {},
   "source": [
    "So, unfornunatelly my model gives not so good predictions.  \n",
    "Maybe I need to spend more time to optimize it.  \n",
    "\n",
    "But our deployment works, and we will use this model to create a service."
   ]
  },
  {
   "cell_type": "code",
   "execution_count": null,
   "id": "7c4502e1",
   "metadata": {},
   "outputs": [],
   "source": []
  }
 ],
 "metadata": {
  "kernelspec": {
   "display_name": "Python 3 (ipykernel)",
   "language": "python",
   "name": "python3"
  },
  "language_info": {
   "codemirror_mode": {
    "name": "ipython",
    "version": 3
   },
   "file_extension": ".py",
   "mimetype": "text/x-python",
   "name": "python",
   "nbconvert_exporter": "python",
   "pygments_lexer": "ipython3",
   "version": "3.9.7"
  }
 },
 "nbformat": 4,
 "nbformat_minor": 5
}
